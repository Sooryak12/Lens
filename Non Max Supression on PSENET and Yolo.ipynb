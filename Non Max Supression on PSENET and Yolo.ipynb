{
 "cells": [
  {
   "cell_type": "code",
   "execution_count": null,
   "id": "4c884bca-5661-4b6c-bb93-711e3746b8ce",
   "metadata": {},
   "outputs": [],
   "source": [
    "import pandas as pd\n",
    "import numpy as np\n",
    "import plotly.express as px\n",
    "import os\n",
    "import glob\n",
    "from skimage import io\n",
    "import matplotlib.pyplot as plt\n",
    "%matplotlib inline\n",
    "import cv2\n",
    "import skimage\n",
    "import json\n",
    "from PIL import Image\n",
    "from PIL import Image, ImageDraw,ImageFont\n",
    "import json"
   ]
  },
  {
   "cell_type": "code",
   "execution_count": null,
   "id": "c743c9c2-9088-4a76-9e1a-ffac276681eb",
   "metadata": {},
   "outputs": [],
   "source": [
    "df=pd.read_csv(\"output_28.csv\")   # PSENET Bounding Boxes"
   ]
  },
  {
   "cell_type": "code",
   "execution_count": null,
   "id": "f82442b2-d3a5-48f8-bafe-b10cc78ff2fe",
   "metadata": {},
   "outputs": [],
   "source": [
    "df[' Points']=df[' Points'].apply(lambda x :x.replace('-1','0'))   # Replacing  '-1' with 0  -> -1 was included to remove invalid bounding boxes"
   ]
  },
  {
   "cell_type": "code",
   "execution_count": null,
   "id": "26a764ad-18fb-4a57-b0c5-5290c912a70e",
   "metadata": {},
   "outputs": [],
   "source": [
    "df[\"point_new\"]=df[\" Points\"].apply(lambda x :eval(x))"
   ]
  },
  {
   "cell_type": "code",
   "execution_count": null,
   "id": "37cef134-e50f-4200-ad4d-e1d2b35ec1e0",
   "metadata": {},
   "outputs": [],
   "source": [
    "direc=glob.glob(\"test_image/*\")"
   ]
  },
  {
   "cell_type": "code",
   "execution_count": null,
   "id": "8b3e120f-62ad-41ff-8f32-9642af2f3aa1",
   "metadata": {},
   "outputs": [],
   "source": [
    "df[\"point_new\"]=df[\"point_new\"].apply(lambda points :[[int(points[0][0]),int(points[0][1])]\n",
    "                                 ,[int(points[1][0]),int(points[1][1])]\n",
    "                                 ,[int(points[2][0]),int(points[2][1])]\n",
    "                                 ,[int(points[3][0]),int(points[3][1])]] )"
   ]
  },
  {
   "cell_type": "code",
   "execution_count": null,
   "id": "ebfa2e42-b1bb-4953-85bb-c701a9170d17",
   "metadata": {},
   "outputs": [],
   "source": [
    "def selector(x):\n",
    "    if x[4]<8 or x[5] <8:\n",
    "        return False\n",
    "    elif x[4] <45 and x[5] <18:\n",
    "        return False\n",
    "    else:\n",
    "        return True"
   ]
  },
  {
   "cell_type": "code",
   "execution_count": null,
   "id": "a6af27f8-9140-4d38-a09c-63bc92dd2839",
   "metadata": {},
   "outputs": [],
   "source": [
    "df['selected']=df.apply(selector, axis=1)   # Removing Invalid Boxes  (So Small)"
   ]
  },
  {
   "cell_type": "code",
   "execution_count": null,
   "id": "2882a13e-c930-4868-85e8-0799553d6587",
   "metadata": {},
   "outputs": [],
   "source": [
    "df.reset_index(inplace=True,drop=True)"
   ]
  },
  {
   "cell_type": "code",
   "execution_count": null,
   "id": "7ceaada8-10a6-465f-8ec7-b8a4386ffc31",
   "metadata": {},
   "outputs": [],
   "source": [
    "img_list=glob.glob(\"offical_data//test_image//*\")\n",
    "for i in range(len(img_list)):\n",
    "    img_list[i]=img_list[i].split(\"\\\\\")[1]"
   ]
  },
  {
   "cell_type": "code",
   "execution_count": null,
   "id": "a17b6016-2270-4fa4-bba6-e91883df2212",
   "metadata": {},
   "outputs": [],
   "source": [
    "output_dic={}\n",
    "for i in range(25555):\n",
    "    img_name=df.loc[i,\"Image_Name\"]\n",
    "    point=df.loc[i,\"point_new\"]\n",
    "    label=None\n",
    "    if img_name not in output_dic:\n",
    "        output_dic[img_name]=[{'points':point,'label':None}]\n",
    "    else:\n",
    "        output_dic[img_name].append({'points':point,'label':None})"
   ]
  },
  {
   "cell_type": "code",
   "execution_count": null,
   "id": "c95bceda-c8ff-4eb1-a878-80d9ec64184b",
   "metadata": {},
   "outputs": [],
   "source": [
    "output_dic['test_216.JPEG']=[]\n",
    "output_dic['test_24.PNG']=[]\n",
    "output_dic['test_356.PNG']=[]\n",
    "output_dic['test_36.JPEG']=[]\n",
    "output_dic['test_495.PNG']=[]"
   ]
  },
  {
   "cell_type": "code",
   "execution_count": null,
   "id": "76cc381d-eee8-4764-b175-400dd37a0304",
   "metadata": {},
   "outputs": [],
   "source": [
    "\n",
    "with open(\"null_submission_30000.json\",'w',encoding=\"utf-8\") as f:\n",
    "    json.dump(output_dic,f)"
   ]
  },
  {
   "cell_type": "code",
   "execution_count": null,
   "id": "5e186c4a-9dc8-4760-b50d-a0179600f2d2",
   "metadata": {},
   "outputs": [],
   "source": []
  },
  {
   "cell_type": "markdown",
   "id": "0a55e54c-6188-4efb-93bb-80ce15f40339",
   "metadata": {},
   "source": [
    "## Yolo Submission"
   ]
  },
  {
   "cell_type": "code",
   "execution_count": null,
   "id": "2c305790-90dd-46c8-812e-f58153ccb151",
   "metadata": {},
   "outputs": [],
   "source": [
    "df=pd.read_csv(\"output_4_points.csv\")"
   ]
  },
  {
   "cell_type": "code",
   "execution_count": null,
   "id": "a8972903-db7d-42d7-a432-2e209a9e4ae4",
   "metadata": {},
   "outputs": [],
   "source": [
    "direc=glob.glob('test_image/*')\n",
    "img_list=list(df.Image_Name.value_counts().index)"
   ]
  },
  {
   "cell_type": "code",
   "execution_count": null,
   "id": "a193b99d-eeb6-49cf-81e5-7a7841d98b7c",
   "metadata": {},
   "outputs": [],
   "source": [
    " count=0\n",
    " for i in img_list:\n",
    "     if f\"test_image\\\\{i}.JPEG\" in direc:        \n",
    "         df.loc[df[\"Image_Name\"]==i,'Image_Name']=f\"{i}.JPEG\"\n",
    "     elif  f\"test_image\\\\{i}.PNG\" in direc:\n",
    "         df.loc[df[\"Image_Name\"]==i,'Image_Name']=f\"{i}.PNG\"\n",
    "     else:\n",
    "         count+=1"
   ]
  },
  {
   "cell_type": "code",
   "execution_count": null,
   "id": "db71d490-07b2-49f1-9d7f-a84a956f4115",
   "metadata": {},
   "outputs": [],
   "source": [
    "df['point']=df['point'].apply(lambda x :x.replace('-1','0'))\n",
    "df['point']=df['point'].apply(lambda x :x.replace('-',''))"
   ]
  },
  {
   "cell_type": "code",
   "execution_count": null,
   "id": "ab0c8f1c-6299-4f47-bca5-de0d42406d4a",
   "metadata": {},
   "outputs": [],
   "source": [
    "df['point']=df['point'].apply(lambda x :eval(x))"
   ]
  },
  {
   "cell_type": "code",
   "execution_count": null,
   "id": "0edfe7bb-f10e-41f2-8638-3d371c406611",
   "metadata": {},
   "outputs": [],
   "source": [
    "def pointchecker(points):\n",
    "    try:\n",
    "        if points[3][1]:\n",
    "            return True\n",
    "    except:\n",
    "        return False\n",
    "df['point_check']=df['point'].apply(pointchecker)    # Removing Boxes which has only 3 points."
   ]
  },
  {
   "cell_type": "code",
   "execution_count": null,
   "id": "8383a6b8-5c1b-47d8-aa37-c8704e8305dd",
   "metadata": {},
   "outputs": [],
   "source": [
    "df=df[df['point_check']==True]"
   ]
  },
  {
   "cell_type": "code",
   "execution_count": null,
   "id": "3804205d-382f-487e-acaf-6678e0dcab40",
   "metadata": {},
   "outputs": [],
   "source": [
    "df.drop(columns=['Points', 'Labels', 'Image_Height', 'Image_Width', 'point_check'],inplace=True)"
   ]
  },
  {
   "cell_type": "code",
   "execution_count": null,
   "id": "a02eecce-2762-468c-9a04-6015d48c4697",
   "metadata": {},
   "outputs": [],
   "source": [
    "df.reset_index(drop=True,inplace=True)"
   ]
  },
  {
   "cell_type": "code",
   "execution_count": null,
   "id": "0d5df5fd-9e51-4084-acb3-e9fa9b4a7a53",
   "metadata": {},
   "outputs": [],
   "source": [
    "output_dic={}\n",
    "for i in range(26143):\n",
    "    img_name=df.loc[i,\"Image_Name\"]\n",
    "    point=df.loc[i,\"point\"]\n",
    "    label=None\n",
    "    if img_name not in output_dic:\n",
    "        output_dic[img_name]=[{'points':point,'label':None}]\n",
    "    else:\n",
    "        output_dic[img_name].append({'points':point,'label':None})"
   ]
  },
  {
   "cell_type": "code",
   "execution_count": null,
   "id": "a7cc3e52-77b6-4eb8-a242-c1134cf7ef00",
   "metadata": {},
   "outputs": [],
   "source": [
    "with open('null_submission_25000_1.json','w',encoding='utf-8') as infile:\n",
    "    json.dump(output_dic,infile)"
   ]
  },
  {
   "cell_type": "markdown",
   "id": "e5fa4aa5-bc6b-4308-b0a1-a01856869ad2",
   "metadata": {},
   "source": [
    "## Non Max Supression on Bounding Boxes of Yolo and PSENET Model"
   ]
  },
  {
   "cell_type": "code",
   "execution_count": null,
   "id": "3cf37053-d2e7-44c9-bb65-9575ece907bf",
   "metadata": {},
   "outputs": [],
   "source": [
    "with open('null_submission_25000_1.json','r+',encoding='utf-8') as infile:\n",
    "    yolo_dic=json.load(infile)\n",
    "    \n",
    "with open('null_submission_30000.json','r+',encoding='utf-8') as infile:\n",
    "    pse_dic=json.load(infile)"
   ]
  },
  {
   "cell_type": "code",
   "execution_count": null,
   "id": "2ea064f3-ac16-4cc9-8efa-f9deb6c93798",
   "metadata": {},
   "outputs": [],
   "source": [
    "def non_max_suppression(boxes, overlapThresh):\n",
    "   if len(boxes) == 0:\n",
    "      return []\n",
    "\n",
    "   # if the bounding boxes integers, convert them to floats --\n",
    "   # this is important since we'll be doing a bunch of divisions\n",
    "   if boxes.dtype.kind == \"i\":\n",
    "      boxes = boxes.astype(\"float\")\n",
    "#  \n",
    "   # initialize the list of picked indexes   \n",
    "   pick = []\n",
    "\n",
    "   # grab the coordinates of the bounding boxes\n",
    "   x1 = boxes[:,0]\n",
    "   y1 = boxes[:,1]\n",
    "   x2 = boxes[:,2]\n",
    "   y2 = boxes[:,3]\n",
    "\n",
    "   # compute the area of the bounding boxes and sort the bounding\n",
    "   # boxes by the bottom-right y-coordinate of the bounding box\n",
    "   area = (x2 - x1 + 1) * (y2 - y1 + 1)\n",
    "   idxs = np.argsort(y2)\n",
    "\n",
    "   # keep looping while some indexes still remain in the indexes\n",
    "   # list\n",
    "   while len(idxs) > 0:\n",
    "      # grab the last index in the indexes list and add the\n",
    "      # index value to the list of picked indexes\n",
    "      last = len(idxs) - 1\n",
    "      i = idxs[last]\n",
    "      pick.append(i)\n",
    "\n",
    "      # find the largest (x, y) coordinates for the start of\n",
    "      # the bounding box and the smallest (x, y) coordinates\n",
    "      # for the end of the bounding box\n",
    "      xx1 = np.maximum(x1[i], x1[idxs[:last]])\n",
    "      yy1 = np.maximum(y1[i], y1[idxs[:last]])\n",
    "      xx2 = np.minimum(x2[i], x2[idxs[:last]])\n",
    "      yy2 = np.minimum(y2[i], y2[idxs[:last]])\n",
    "\n",
    "      # compute the width and height of the bounding box\n",
    "      w = np.maximum(0, xx2 - xx1 + 1)\n",
    "      h = np.maximum(0, yy2 - yy1 + 1)\n",
    "\n",
    "      # compute the ratio of overlap\n",
    "      overlap = (w * h) / area[idxs[:last]]\n",
    "\n",
    "      # delete all indexes from the index list that have\n",
    "      idxs = np.delete(idxs, np.concatenate(([last],\n",
    "         np.where(overlap > overlapThresh)[0])))\n",
    "\n",
    "   # return only the bounding boxes that were picked \n",
    "   return boxes[pick].astype(\"int\")"
   ]
  },
  {
   "cell_type": "code",
   "execution_count": null,
   "id": "748f279b-fb30-4e96-9716-0c14a4f23445",
   "metadata": {},
   "outputs": [],
   "source": [
    "# code to combine null_submission_25000_1 and null_submission_30000 and apply non max supression on points to create new points\n",
    "\n",
    "imgs=list(yolo_dic.keys())\n",
    "non_max_dic={}\n",
    "for img in imgs:\n",
    "    arr=[]\n",
    "    for i in yolo_dic[img]:\n",
    "        point=i['points']\n",
    "        x1=point[0][0]\n",
    "        y1=point[0][1]\n",
    "        x2=point[2][0]\n",
    "        y2=point[2][1]\n",
    "        arr=np.append(arr,(x1,y1,x2,y2))\n",
    "        \n",
    "    for i in pse_dic[img]:\n",
    "        point=i['points']\n",
    "        x1=point[0][0]\n",
    "        y1=point[0][1]\n",
    "        x2=point[2][0]\n",
    "        y2=point[2][1]\n",
    "        arr=np.append(arr,(x1,y1,x2,y2))\n",
    "        \n",
    "    arr=arr.reshape(-1,4)\n",
    "    \n",
    "    new_boxes=non_max_suppression(arr,0.4)\n",
    "    non_max_dic[img]=[]\n",
    "    for point in new_boxes:\n",
    "        non_max_dic[img].append({'points':[[int(point[0]),int(point[1])],[int(point[2]),int(point[1])],[int(point[2]),int(point[3])],[int(point[0]),int(point[3])]],'label':None})"
   ]
  },
  {
   "cell_type": "code",
   "execution_count": null,
   "id": "3c30ad67-0410-4809-b4b1-6630f3a462b6",
   "metadata": {},
   "outputs": [],
   "source": [
    "non_max_dic['test_216.JPEG']=[]"
   ]
  },
  {
   "cell_type": "code",
   "execution_count": null,
   "id": "64553a6a-d761-4922-b713-cc6db55b8fd0",
   "metadata": {},
   "outputs": [],
   "source": [
    "with open('null_submission_non_max.json','w',encoding='utf-8') as outfile:\n",
    "    json.dump(non_max_dic,outfile)"
   ]
  }
 ],
 "metadata": {
  "kernelspec": {
   "display_name": "Python 3",
   "language": "python",
   "name": "python3"
  },
  "language_info": {
   "codemirror_mode": {
    "name": "ipython",
    "version": 3
   },
   "file_extension": ".py",
   "mimetype": "text/x-python",
   "name": "python",
   "nbconvert_exporter": "python",
   "pygments_lexer": "ipython3",
   "version": "3.6.12"
  }
 },
 "nbformat": 4,
 "nbformat_minor": 5
}
